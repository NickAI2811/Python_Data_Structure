{
  "nbformat": 4,
  "nbformat_minor": 0,
  "metadata": {
    "colab": {
      "provenance": []
    },
    "kernelspec": {
      "name": "python3",
      "display_name": "Python 3"
    },
    "language_info": {
      "name": "python"
    }
  },
  "cells": [
    {
      "cell_type": "markdown",
      "source": [],
      "metadata": {
        "id": "TRNoQIGe6899"
      }
    },
    {
      "cell_type": "markdown",
      "source": [
        "Q.1. Write a code to create a string with your name and print it."
      ],
      "metadata": {
        "id": "cp0r8EWX6_fz"
      }
    },
    {
      "cell_type": "code",
      "source": [
        "string_input = input((\"Enter your name: \"))\n",
        "print(string_input)"
      ],
      "metadata": {
        "colab": {
          "base_uri": "https://localhost:8080/"
        },
        "id": "Qsh0W3BU7GHH",
        "outputId": "5f9aee19-e4a0-4926-fea1-6d516823f1fa"
      },
      "execution_count": null,
      "outputs": [
        {
          "output_type": "stream",
          "name": "stdout",
          "text": [
            "Enter your name: Nikunj\n",
            "Nikunj\n"
          ]
        }
      ]
    },
    {
      "cell_type": "code",
      "source": [
        "string_input = \"Nikunj\"\n",
        "print(string_input)"
      ],
      "metadata": {
        "colab": {
          "base_uri": "https://localhost:8080/"
        },
        "id": "LVYbIg1F7c3o",
        "outputId": "bcc3d8ad-2925-431d-af4e-810a239a2f4e"
      },
      "execution_count": null,
      "outputs": [
        {
          "output_type": "stream",
          "name": "stdout",
          "text": [
            "Nikunj\n"
          ]
        }
      ]
    },
    {
      "cell_type": "markdown",
      "source": [
        "Q.2. Write a code to find the length of the string \"Hello World\"."
      ],
      "metadata": {
        "id": "h2irJPKI7jTn"
      }
    },
    {
      "cell_type": "code",
      "source": [
        "string_input = \"Hello World\"\n",
        "print(len(string_input))"
      ],
      "metadata": {
        "colab": {
          "base_uri": "https://localhost:8080/"
        },
        "id": "Umunb7wl7rxi",
        "outputId": "50803290-8b79-48b8-ee84-a9cb17752f81"
      },
      "execution_count": null,
      "outputs": [
        {
          "output_type": "stream",
          "name": "stdout",
          "text": [
            "11\n"
          ]
        }
      ]
    },
    {
      "cell_type": "markdown",
      "source": [
        "Q.3. Write a code to slice the first 3 characters from the string \"Python Programming\"."
      ],
      "metadata": {
        "id": "lmONxmJq70vC"
      }
    },
    {
      "cell_type": "code",
      "source": [
        "string_input = \"Python Programming\"\n",
        "print(string_input [0:3])"
      ],
      "metadata": {
        "colab": {
          "base_uri": "https://localhost:8080/"
        },
        "id": "65NJGZqW7_qd",
        "outputId": "79bf8925-0f44-492a-b5c5-559adfce69dc"
      },
      "execution_count": null,
      "outputs": [
        {
          "output_type": "stream",
          "name": "stdout",
          "text": [
            "Pyt\n"
          ]
        }
      ]
    },
    {
      "cell_type": "markdown",
      "source": [
        "Q.4. Write a code to convert the string \"hello\" to upparcase."
      ],
      "metadata": {
        "id": "fsXFGmkM9i8W"
      }
    },
    {
      "cell_type": "code",
      "source": [
        "string_input = \"hello\"\n",
        "print(string_input.upper())"
      ],
      "metadata": {
        "colab": {
          "base_uri": "https://localhost:8080/"
        },
        "id": "4prKvVsE9puw",
        "outputId": "4b40b22c-8959-4546-b2b1-488f4800d5e3"
      },
      "execution_count": null,
      "outputs": [
        {
          "output_type": "stream",
          "name": "stdout",
          "text": [
            "HELLO\n"
          ]
        }
      ]
    },
    {
      "cell_type": "markdown",
      "source": [
        "Q.5. Write a code to replace the word \"apple\" with \"orange\" in the string \"I like apple\"."
      ],
      "metadata": {
        "id": "4UQpyHN794T7"
      }
    },
    {
      "cell_type": "code",
      "source": [
        "string_input = \"I like apple\"\n",
        "print(string_input.replace(\"apple\",\"orange\"))"
      ],
      "metadata": {
        "colab": {
          "base_uri": "https://localhost:8080/"
        },
        "id": "hFa2UY1091ta",
        "outputId": "dd8fff9e-af32-4851-d161-744d2a9b2580"
      },
      "execution_count": null,
      "outputs": [
        {
          "output_type": "stream",
          "name": "stdout",
          "text": [
            "I like orange\n"
          ]
        }
      ]
    },
    {
      "cell_type": "markdown",
      "source": [
        "Q.6. Write a code to create a list with numbers 1 to 5 and print it."
      ],
      "metadata": {
        "id": "dYcp6Ckg-YzD"
      }
    },
    {
      "cell_type": "code",
      "source": [
        "lis = [1, 2, 3, 4, 5]\n",
        "for item in lis:\n",
        "  print(item, end = \" \")"
      ],
      "metadata": {
        "colab": {
          "base_uri": "https://localhost:8080/"
        },
        "id": "bJeBdVnS-oyy",
        "outputId": "4500e014-4e47-4578-a6fa-6c3923f45b95"
      },
      "execution_count": null,
      "outputs": [
        {
          "output_type": "stream",
          "name": "stdout",
          "text": [
            "1 2 3 4 5 "
          ]
        }
      ]
    },
    {
      "cell_type": "markdown",
      "source": [
        "Q.7. Write a code to append the number 10 to the list [1, 2, 3, 4]."
      ],
      "metadata": {
        "id": "S4-s5rUx_Zmu"
      }
    },
    {
      "cell_type": "code",
      "source": [
        "lis = [1, 2, 3, 4]\n",
        "lis.append(10)\n",
        "print(lis)"
      ],
      "metadata": {
        "colab": {
          "base_uri": "https://localhost:8080/"
        },
        "id": "P04ms6XA_hdi",
        "outputId": "162f81da-79ad-4c28-c1ed-07a953faf37c"
      },
      "execution_count": null,
      "outputs": [
        {
          "output_type": "stream",
          "name": "stdout",
          "text": [
            "[1, 2, 3, 4, 10]\n"
          ]
        }
      ]
    },
    {
      "cell_type": "markdown",
      "source": [
        "Q.8. Write a code to remove the number 3 from the list [1, 2, 3, 4]."
      ],
      "metadata": {
        "id": "NgSgNmfbA4lN"
      }
    },
    {
      "cell_type": "code",
      "source": [
        "my_list = [1, 2, 3, 4]\n",
        "my_list.remove(3)\n",
        "print(my_list)"
      ],
      "metadata": {
        "colab": {
          "base_uri": "https://localhost:8080/"
        },
        "id": "MxGfHPT-AvYE",
        "outputId": "e7530f08-9db1-4edf-c45b-1a31fd8b3c67"
      },
      "execution_count": null,
      "outputs": [
        {
          "output_type": "stream",
          "name": "stdout",
          "text": [
            "[1, 2, 4]\n"
          ]
        }
      ]
    },
    {
      "cell_type": "markdown",
      "source": [
        "Q.9. Write a code to access the second element in the list 'a', 'b', 'c', 'd'."
      ],
      "metadata": {
        "id": "Kk_hg2C5BI4t"
      }
    },
    {
      "cell_type": "code",
      "source": [
        "my_list = ['a', 'b', 'c', 'd']\n",
        "print(my_list[1])"
      ],
      "metadata": {
        "colab": {
          "base_uri": "https://localhost:8080/"
        },
        "id": "BSldtYzKA2vQ",
        "outputId": "c4a0c0e7-80f8-45e9-c633-5a2803723d36"
      },
      "execution_count": null,
      "outputs": [
        {
          "output_type": "stream",
          "name": "stdout",
          "text": [
            "b\n"
          ]
        }
      ]
    },
    {
      "cell_type": "markdown",
      "source": [
        "Q.10. Write a code to reverse the list [10, 20, 30, 40, 50]."
      ],
      "metadata": {
        "id": "XMN2dDOjBfyW"
      }
    },
    {
      "cell_type": "code",
      "source": [
        "my_list = [10, 20, 30, 40, 50]\n",
        "reversed_list = my_list[::-1]\n",
        "print(\"Reversed List:\", reversed_list)"
      ],
      "metadata": {
        "colab": {
          "base_uri": "https://localhost:8080/"
        },
        "id": "9UmUpGFiBnUR",
        "outputId": "b547dae5-a0cc-4704-afa3-ca5c01989c0e"
      },
      "execution_count": 1,
      "outputs": [
        {
          "output_type": "stream",
          "name": "stdout",
          "text": [
            "Reversed List: [50, 40, 30, 20, 10]\n"
          ]
        }
      ]
    },
    {
      "cell_type": "markdown",
      "source": [
        "Q.11. Write a code to create a tuple with the elements 100, 200, 300 and print it."
      ],
      "metadata": {
        "id": "Wcdh9YRLCJrJ"
      }
    },
    {
      "cell_type": "code",
      "source": [
        "my_tuple = (100, 200, 300)\n",
        "print(my_tuple)"
      ],
      "metadata": {
        "colab": {
          "base_uri": "https://localhost:8080/"
        },
        "id": "gphpiuvoCeBz",
        "outputId": "5d4bb64c-a785-4534-c384-f093fac66f30"
      },
      "execution_count": null,
      "outputs": [
        {
          "output_type": "stream",
          "name": "stdout",
          "text": [
            "(100, 200, 300)\n"
          ]
        }
      ]
    },
    {
      "cell_type": "markdown",
      "source": [
        "Q.12. Write a code to access the second-to-last element of the tuple ('red', 'green', 'blue', 'yellow')."
      ],
      "metadata": {
        "id": "hCBv5vKICqzI"
      }
    },
    {
      "cell_type": "code",
      "source": [
        "my_tuple = ('red', 'green', 'blue', 'yellow')\n",
        "print(my_tuple[-2])"
      ],
      "metadata": {
        "colab": {
          "base_uri": "https://localhost:8080/"
        },
        "id": "2G9_Q8aUC4vW",
        "outputId": "1e86e8ca-0e6a-454a-d102-352679df3efb"
      },
      "execution_count": null,
      "outputs": [
        {
          "output_type": "stream",
          "name": "stdout",
          "text": [
            "blue\n"
          ]
        }
      ]
    },
    {
      "cell_type": "markdown",
      "source": [
        "Q.13. Write a code to find the minimum number in the tuple (10, 20, 5, 15)."
      ],
      "metadata": {
        "id": "s50pkcTgO5l9"
      }
    },
    {
      "cell_type": "code",
      "source": [
        "numbers = (10, 20, 5, 15)\n",
        "min_number = min(numbers)\n",
        "print(\"Minimum number:\", min_number)\n"
      ],
      "metadata": {
        "id": "tcFj43OQPJ0_",
        "colab": {
          "base_uri": "https://localhost:8080/"
        },
        "outputId": "eb323469-2834-41c1-9c73-269e5223e3de"
      },
      "execution_count": 3,
      "outputs": [
        {
          "output_type": "stream",
          "name": "stdout",
          "text": [
            "Minimum number: 5\n"
          ]
        }
      ]
    },
    {
      "cell_type": "markdown",
      "source": [
        "Q. 14. Write a code to find the index of the element \"cat\" in the tuple ('dog', 'cat', 'rabbit')."
      ],
      "metadata": {
        "id": "VeweP0wcPKYm"
      }
    },
    {
      "cell_type": "code",
      "source": [
        "animals = ('dog', 'cat', 'rabbit')\n",
        "index_of_cat = animals.index('cat')\n",
        "print(\"Index of 'cat':\", index_of_cat)"
      ],
      "metadata": {
        "id": "AAAILVc_PgS9",
        "colab": {
          "base_uri": "https://localhost:8080/"
        },
        "outputId": "d500323c-2c65-47e1-f08b-1760359e1109"
      },
      "execution_count": 4,
      "outputs": [
        {
          "output_type": "stream",
          "name": "stdout",
          "text": [
            "Index of 'cat': 1\n"
          ]
        }
      ]
    },
    {
      "cell_type": "markdown",
      "source": [
        "Q.15. Write a code to create a tuple containing three different fruits and check if \"kiwi: is in it."
      ],
      "metadata": {
        "id": "lu8LGF7uPg1E"
      }
    },
    {
      "cell_type": "code",
      "source": [
        "fruits = ('apple', 'banana', 'orange')\n",
        "if 'kiwi' in fruits:\n",
        "    print(\"Yes, 'kiwi' is in the tuple.\")\n",
        "else:\n",
        "    print(\"No, 'kiwi' is not in the tuple.\")"
      ],
      "metadata": {
        "id": "lX6YeCoGP6cC",
        "colab": {
          "base_uri": "https://localhost:8080/"
        },
        "outputId": "b471d34d-f997-4061-ddf4-ab115936e746"
      },
      "execution_count": 5,
      "outputs": [
        {
          "output_type": "stream",
          "name": "stdout",
          "text": [
            "No, 'kiwi' is not in the tuple.\n"
          ]
        }
      ]
    },
    {
      "cell_type": "markdown",
      "source": [
        "Q.16. Write a code to create a set with the elements 'a', 'b', 'c' and print it."
      ],
      "metadata": {
        "id": "tfR_UtYfP61n"
      }
    },
    {
      "cell_type": "code",
      "source": [
        "my_set = {'a', 'b', 'c'}\n",
        "print(\"Set:\", my_set)"
      ],
      "metadata": {
        "id": "_xOGNQdzQHS0",
        "colab": {
          "base_uri": "https://localhost:8080/"
        },
        "outputId": "545eb347-50b7-4a35-c288-f488022d6e36"
      },
      "execution_count": 6,
      "outputs": [
        {
          "output_type": "stream",
          "name": "stdout",
          "text": [
            "Set: {'b', 'c', 'a'}\n"
          ]
        }
      ]
    },
    {
      "cell_type": "markdown",
      "source": [
        "Q.17. Write a code to clear all elements from the set {1, 2, 3, 4, 5}."
      ],
      "metadata": {
        "id": "1RuF9eDKQHuG"
      }
    },
    {
      "cell_type": "code",
      "source": [
        "my_set = {1, 2, 3, 4, 5}\n",
        "my_set.clear()\n",
        "print(\"Cleared set:\", my_set)"
      ],
      "metadata": {
        "id": "t5qg5cAYQQzI",
        "colab": {
          "base_uri": "https://localhost:8080/"
        },
        "outputId": "40d9b56e-d7c0-4b05-a536-ff9162f0d274"
      },
      "execution_count": 7,
      "outputs": [
        {
          "output_type": "stream",
          "name": "stdout",
          "text": [
            "Cleared set: set()\n"
          ]
        }
      ]
    },
    {
      "cell_type": "markdown",
      "source": [
        "Q.18. Write a code to remove the element 4 from the set {1, 2, 3, 4}."
      ],
      "metadata": {
        "id": "tx4Yfp7dQREA"
      }
    },
    {
      "cell_type": "code",
      "source": [
        "my_set = {1, 2, 3, 4}\n",
        "my_set.remove(4)\n",
        "print(\"Updated set:\", my_set)"
      ],
      "metadata": {
        "id": "_mk7oCtWQZ7a",
        "colab": {
          "base_uri": "https://localhost:8080/"
        },
        "outputId": "26d3597d-37d7-4892-d199-118948839047"
      },
      "execution_count": 8,
      "outputs": [
        {
          "output_type": "stream",
          "name": "stdout",
          "text": [
            "Updated set: {1, 2, 3}\n"
          ]
        }
      ]
    },
    {
      "cell_type": "markdown",
      "source": [
        "Q.19. Write a code to find the union of two sets {1, 2, 3} and {3, 4, 5}."
      ],
      "metadata": {
        "id": "TlHIv3nLQaNV"
      }
    },
    {
      "cell_type": "code",
      "source": [
        "set1 = {1, 2, 3}\n",
        "set2 = {3, 4, 5}\n",
        "union_set = set1.union(set2)\n",
        "print(\"Union of sets:\", union_set)"
      ],
      "metadata": {
        "id": "I60AuJkNQjfF",
        "colab": {
          "base_uri": "https://localhost:8080/"
        },
        "outputId": "4df30769-005a-4064-f109-6f05b505003a"
      },
      "execution_count": 9,
      "outputs": [
        {
          "output_type": "stream",
          "name": "stdout",
          "text": [
            "Union of sets: {1, 2, 3, 4, 5}\n"
          ]
        }
      ]
    },
    {
      "cell_type": "markdown",
      "source": [
        "Q.20. Write a code to find the intersection of two sets {1, 2, 3} and {2, 3, 4}."
      ],
      "metadata": {
        "id": "WoRlwPsmQj22"
      }
    },
    {
      "cell_type": "code",
      "source": [
        "set1 = {1, 2, 3}\n",
        "set2 = {2, 3, 4}\n",
        "intersection_set = set1.intersection(set2)\n",
        "print(\"Intersection of sets:\", intersection_set)"
      ],
      "metadata": {
        "id": "BKCA8-0yQyj8",
        "colab": {
          "base_uri": "https://localhost:8080/"
        },
        "outputId": "223ebe5a-4716-42ee-ea47-dd43a3f419fc"
      },
      "execution_count": 10,
      "outputs": [
        {
          "output_type": "stream",
          "name": "stdout",
          "text": [
            "Intersection of sets: {2, 3}\n"
          ]
        }
      ]
    },
    {
      "cell_type": "markdown",
      "source": [
        "Q.21. Write a code to create a dictionary with the keys \"name\", \"age\", and \"city\" and print it."
      ],
      "metadata": {
        "id": "Q0q7RZZSQy6Y"
      }
    },
    {
      "cell_type": "code",
      "source": [
        "my_dict = {'name' : 'Nikunj', 'age' : 35, 'city' : 'Bhavnagar'}\n",
        "print(my_dict)"
      ],
      "metadata": {
        "id": "c1GaAqp7Q-cG",
        "colab": {
          "base_uri": "https://localhost:8080/"
        },
        "outputId": "9250ff06-cf40-4195-98c6-55fabe51cb29"
      },
      "execution_count": null,
      "outputs": [
        {
          "output_type": "stream",
          "name": "stdout",
          "text": [
            "{'name': 'Nikunj', 'age': 35, 'city': 'Bhavnagar'}\n"
          ]
        }
      ]
    },
    {
      "cell_type": "markdown",
      "source": [
        "Q.22. Write a code to add a new key-value pair \"country\" : \"USA\" to the dictionary {'name' : 'John', 'age' : 25}."
      ],
      "metadata": {
        "id": "VFCtTLjNQ-7Y"
      }
    },
    {
      "cell_type": "code",
      "source": [
        "my_dict = {'name' : 'John', 'age' : 25}\n",
        "my_dict['country'] = 'USA'\n",
        "print (my_dict)"
      ],
      "metadata": {
        "id": "UTmwJGL4RaEh",
        "colab": {
          "base_uri": "https://localhost:8080/"
        },
        "outputId": "f6bb50d5-2400-4710-b922-7a83c1f25067"
      },
      "execution_count": null,
      "outputs": [
        {
          "output_type": "stream",
          "name": "stdout",
          "text": [
            "{'name': 'John', 'age': 25, 'country': 'USA'}\n"
          ]
        }
      ]
    },
    {
      "cell_type": "markdown",
      "source": [
        "Q.23. Write a code to access the value associated with the key \"name\" in the dictionary {'name' : 'Alice', 'age' : 30}."
      ],
      "metadata": {
        "id": "NQUf53FKRbSC"
      }
    },
    {
      "cell_type": "code",
      "source": [
        "my_dict = {'name' : 'Alice', 'age' : 30}\n",
        "print(my_dict['name'])"
      ],
      "metadata": {
        "id": "v1tXa_gxRtc5",
        "colab": {
          "base_uri": "https://localhost:8080/"
        },
        "outputId": "37d2741c-b53d-45f5-df9b-79656a787fa7"
      },
      "execution_count": null,
      "outputs": [
        {
          "output_type": "stream",
          "name": "stdout",
          "text": [
            "Alice\n"
          ]
        }
      ]
    },
    {
      "cell_type": "markdown",
      "source": [
        "Q.24. Write a code to remove the key \"age\" from the dictionary {'name' : 'Bob', 'age' : 22, 'city' : 'New York'}."
      ],
      "metadata": {
        "id": "1k-CPE16Rt0B"
      }
    },
    {
      "cell_type": "code",
      "source": [
        "my_dict = {'name': 'Bob', 'age': 22, 'city': 'New York'}\n",
        "my_dict.pop('age', None)\n",
        "print(\"Updated dictionary:\", my_dict)"
      ],
      "metadata": {
        "id": "jBVwckXoR-_j",
        "colab": {
          "base_uri": "https://localhost:8080/"
        },
        "outputId": "e29591d6-fa97-4f31-e6e7-29c35feaaacc"
      },
      "execution_count": 17,
      "outputs": [
        {
          "output_type": "stream",
          "name": "stdout",
          "text": [
            "Updated dictionary: {'name': 'Bob', 'city': 'New York'}\n"
          ]
        }
      ]
    },
    {
      "cell_type": "markdown",
      "source": [
        "Q.25. Write a code to check if the key \"city\" exists in the dictionary {'name' : 'Alice', 'city' : 'Paris'}."
      ],
      "metadata": {
        "id": "Jf4ML5FdR_X8"
      }
    },
    {
      "cell_type": "code",
      "source": [
        "my_dict = {'name': 'Alice', 'city': 'Paris'}\n",
        "if 'city' in my_dict:\n",
        "    print(\"The key 'city' exists in the dictionary.\")\n",
        "else:\n",
        "    print(\"The key 'city' does not exist in the dictionary.\")"
      ],
      "metadata": {
        "id": "hvDfP8x9STyu",
        "colab": {
          "base_uri": "https://localhost:8080/"
        },
        "outputId": "f79fe410-81b6-4096-9ee0-a2036506de9e"
      },
      "execution_count": 16,
      "outputs": [
        {
          "output_type": "stream",
          "name": "stdout",
          "text": [
            "The key 'city' exists in the dictionary.\n"
          ]
        }
      ]
    },
    {
      "cell_type": "markdown",
      "source": [
        "Q.26. Write a code to create a list, a tuple, and a dictionary and print them all."
      ],
      "metadata": {
        "id": "G55-G8VYSUE9"
      }
    },
    {
      "cell_type": "code",
      "source": [
        "my_list = [1, 2, 3, 4, 5]\n",
        "my_tuple = (10, 20, 30, 40, 50)\n",
        "my_dict = {'a': 1, 'b': 2, 'c': 3}\n",
        "print(\"List:\", my_list)\n",
        "print(\"Tuple:\", my_tuple)\n",
        "print(\"Dictionary:\", my_dict)"
      ],
      "metadata": {
        "id": "XpNbhlSmSdMD",
        "colab": {
          "base_uri": "https://localhost:8080/"
        },
        "outputId": "a20f0c0e-6a31-45dc-b14c-f6c000cf79a2"
      },
      "execution_count": 15,
      "outputs": [
        {
          "output_type": "stream",
          "name": "stdout",
          "text": [
            "List: [1, 2, 3, 4, 5]\n",
            "Tuple: (10, 20, 30, 40, 50)\n",
            "Dictionary: {'a': 1, 'b': 2, 'c': 3}\n"
          ]
        }
      ]
    },
    {
      "cell_type": "markdown",
      "source": [
        "Q.27. Write a code to create a list of 5 random numbers between 1 and 100, sort it in ascending order, and print the result. (replaced)"
      ],
      "metadata": {
        "id": "MM6UKwSeSdXe"
      }
    },
    {
      "cell_type": "code",
      "source": [
        "import random\n",
        "random_numbers = [random.randint(1, 100) for _ in range(5)]\n",
        "random_numbers.sort()\n",
        "print(\"Sorted list of random numbers:\", random_numbers)"
      ],
      "metadata": {
        "id": "TosiDEl7Skle",
        "colab": {
          "base_uri": "https://localhost:8080/"
        },
        "outputId": "efb3da51-3a12-48fc-fd0f-ffbf6a5e9530"
      },
      "execution_count": 14,
      "outputs": [
        {
          "output_type": "stream",
          "name": "stdout",
          "text": [
            "Sorted list of random numbers: [17, 35, 42, 91, 93]\n"
          ]
        }
      ]
    },
    {
      "cell_type": "markdown",
      "source": [
        "Q.28. Write a code to create a list with strings and print the element at the third index."
      ],
      "metadata": {
        "id": "LIJ1oZl0SlFU"
      }
    },
    {
      "cell_type": "code",
      "source": [
        "my_list = [\"apple\", \"banana\", \"cherry\", \"date\", \"elderberry\"]\n",
        "print(\"Element at index 3:\", my_list[3])"
      ],
      "metadata": {
        "id": "_UCmObnsS8JW",
        "colab": {
          "base_uri": "https://localhost:8080/"
        },
        "outputId": "941859a6-1a2e-4942-a2ea-31cf4ef686c5"
      },
      "execution_count": 12,
      "outputs": [
        {
          "output_type": "stream",
          "name": "stdout",
          "text": [
            "Element at index 3: date\n"
          ]
        }
      ]
    },
    {
      "cell_type": "markdown",
      "source": [
        "Q.29. Write a code to combine two dictionaries into one and print the result."
      ],
      "metadata": {
        "id": "a88ALvObS9Kb"
      }
    },
    {
      "cell_type": "code",
      "source": [
        "dict1 = {'a': 1, 'b': 2}\n",
        "dict2 = {'c': 3, 'd': 4}\n",
        "combined_dict = {**dict1, **dict2}\n",
        "print(\"Combined Dictionary:\", combined_dict)"
      ],
      "metadata": {
        "id": "42_ZribxTDya",
        "colab": {
          "base_uri": "https://localhost:8080/"
        },
        "outputId": "84ec18a8-19b9-4cac-b7a4-6972ca3e8d4b"
      },
      "execution_count": 11,
      "outputs": [
        {
          "output_type": "stream",
          "name": "stdout",
          "text": [
            "Combined Dictionary: {'a': 1, 'b': 2, 'c': 3, 'd': 4}\n"
          ]
        }
      ]
    },
    {
      "cell_type": "markdown",
      "source": [
        "Q.30. Write a code to convert a list of strings into a set."
      ],
      "metadata": {
        "id": "X88Ns8ThTEL2"
      }
    },
    {
      "cell_type": "code",
      "source": [
        "string_list = [\"apple\", \"banana\", \"cherry\", \"apple\", \"banana\"]\n",
        "string_set = set(string_list)\n",
        "print(\"Set:\", string_set)"
      ],
      "metadata": {
        "id": "kY6rhzxWTK9Q",
        "colab": {
          "base_uri": "https://localhost:8080/"
        },
        "outputId": "a33cac66-5f9f-4699-9304-927ef59282f0"
      },
      "execution_count": 2,
      "outputs": [
        {
          "output_type": "stream",
          "name": "stdout",
          "text": [
            "Set: {'cherry', 'banana', 'apple'}\n"
          ]
        }
      ]
    },
    {
      "cell_type": "markdown",
      "source": [
        "**Data Types and Structures Questions**"
      ],
      "metadata": {
        "id": "UyNCyUG6TMOr"
      }
    },
    {
      "cell_type": "markdown",
      "source": [
        "Q.1. What are data structures, and why are they important?\n",
        "\n",
        "-> Data structures are specialized formats for organizing, processing, and storing data in a way that enables efficient access and modification. They are essential components in computer science and software engineering, providing a means to store and manage data for various applications."
      ],
      "metadata": {
        "id": "LiGd-Lp5TVrN"
      }
    },
    {
      "cell_type": "markdown",
      "source": [
        "Q.2. Explain the difference between mutable and immutable data types with examples.\n",
        "\n",
        "->In Python, mutable and immutable data types differ in how they handle changes after they are created. Understanding these concepts is crucial for writing efficient and bug-free code.\n",
        "\n",
        "-> Mutable Data Type Example: Dictionary\n",
        "my_dict = {\"name\": \"Alice\", \"age\": 25}\n",
        "\n",
        "my_dict[\"age\"] = 26\n",
        "print(my_dict)  # Output: {'name': 'Alice', 'age': 26}\n",
        "\n",
        "my_dict[\"city\"] = \"Paris\"\n",
        "print(my_dict)  # Output: {'name': 'Alice', 'age': 26, 'city': 'Paris'}\n",
        "\n",
        "Here, the dictionary my_dict is modified directly by updating the value associated with the key \"age\" and adding a new key-value pair \"city\".\n",
        "\n",
        "->\n",
        "Immutable Data Type Example: String\n",
        "my_str = \"hello\"\n",
        "\n",
        "new_str = \"H\" + my_str[1:]\n",
        "print(new_str)  # Output: \"Hello\"\n",
        "\n",
        "In this case, strings in Python are immutable. To change the string, you must create a new one (as shown by concatenating the modified part).\n"
      ],
      "metadata": {
        "id": "MUdEI2rbTcwv"
      }
    },
    {
      "cell_type": "markdown",
      "source": [
        "Q.3. What are the main differences between lists and tuples in Python?\n",
        "\n",
        "-> The main differences between lists and tuples in Python revolve around their mutability, performance, and usage."
      ],
      "metadata": {
        "id": "mj0478zXTpGr"
      }
    },
    {
      "cell_type": "markdown",
      "source": [
        "Q. 4. Describes how dictionaries store data.\n",
        "\n",
        "-> Dictionaries in Python are built on the concept of hashing, which allows them to store and retrieve data efficiently. Let’s break down how this works:\n",
        "\n",
        "A dictionary in Python is a key-value pair structure. Each item in the dictionary consists of:\n",
        "\n",
        "Key: A unique identifier used to retrieve the associated value.\n",
        "Value: The data associated with the key."
      ],
      "metadata": {
        "id": "7RG6BTsSTzQA"
      }
    },
    {
      "cell_type": "markdown",
      "source": [
        "Q.5. Why might you use a set instead of a list in Python?\n",
        "\n",
        "-> In Python, both sets and lists are collections of elements, but they have distinct characteristics that make them more suitable for different use cases."
      ],
      "metadata": {
        "id": "e4YUUTYAT4eA"
      }
    },
    {
      "cell_type": "markdown",
      "source": [
        "Q.6. What is a string in Python, and how is it different from a list?\n",
        "\n",
        "-> n Python, a string is a sequence of characters enclosed in either single quotes (') or double quotes (\"). It is an immutable data type, meaning once a string is created, its contents cannot be changed. Strings are widely used for representing text-based data."
      ],
      "metadata": {
        "id": "L87uJDw0T_Oi"
      }
    },
    {
      "cell_type": "markdown",
      "source": [
        "Q.7. How do tuples ensure data integrity in Python?\n",
        "\n",
        "-> n Python, tuples are designed as an immutable data structure, which plays a key role in ensuring data integrity. Here's how tuples help in maintaining data integrity:\n",
        "\n",
        "1. Immutability (Unchangeable After Creation)\n",
        "2. Hashable (Can Be Used as Dictionary Keys)\n",
        "3. Safe for Multi-Threaded Environments\n",
        "4. Reduces Risk of Errors from Accidental Modification\n",
        "5. Integrity of Compound Data Structures"
      ],
      "metadata": {
        "id": "XjUqKoo8UF8U"
      }
    },
    {
      "cell_type": "markdown",
      "source": [
        "Q.8. What is a hash table, and how does it relate to disctionaries in Python?\n",
        "\n",
        "-> A hash table is a data structure that stores key-value pairs and uses a hash function to compute an index where the value associated with a key is stored. It allows for efficient O(1) average time complexity for lookups, insertions, and deletions.\n",
        "\n",
        "In Python, dictionaries are implemented using hash tables. When you add a key-value pair to a dictionary, Python uses a hash function to determine where to store the value. Similarly, when you access a value using a key, Python uses the hash function to quickly locate the value in memory.\n",
        "\n",
        "### Key Points:\n",
        "- Hash Table: Stores data with a key-value mapping, using a hash function for indexing.\n",
        "- Python Dictionaries: High-level implementation of a hash table for storing key-value pairs efficiently."
      ],
      "metadata": {
        "id": "SFEHJbKcUSDN"
      }
    },
    {
      "cell_type": "markdown",
      "source": [
        "Q.9. Can lists contain different data types in Python?\n",
        "\n",
        "-> Yes, lists in Python can contain different data types. A single list can hold integers, strings, floats, or even other lists or objects."
      ],
      "metadata": {
        "id": "2Xkk6CVnUZz9"
      }
    },
    {
      "cell_type": "markdown",
      "source": [
        "Q.10. Explain why strings are immutable in Python.\n",
        "\n",
        "-> Strings are immutable in Python because once a string is created, its value cannot be changed. This ensures that strings are efficient, hashable and safe for use as dictionary keys. Immutability also helps prevent accidental modifications, making strings predictable and consistent throughout the program."
      ],
      "metadata": {
        "id": "HXyBJhxvUkLr"
      }
    },
    {
      "cell_type": "markdown",
      "source": [
        "Q.11. What advantages do dictionaries offer over lists for certain tasks?\n",
        "\n",
        "-> Dictionaries offer several advantages over lists for tasks that involve key-value pair storage and fast lookups:\n",
        "\n",
        "1. Faster lookups: Accessing values by key is typically O(1), while list lookups are O(n).\n",
        "2. Key-based indexing: Dictionaries allow direct access to data using a key, making them ideal for mapping relationships.\n",
        "3. No duplicates: Keys in dictionaries are unique, preventing accidental duplication.\n",
        "\n",
        "Dictionaries are preferable when you need fast, efficient retrieval based on unique identifiers (keys)."
      ],
      "metadata": {
        "id": "vSQjzUowUqgv"
      }
    },
    {
      "cell_type": "markdown",
      "source": [
        "Q.12. Describe a scenario where using a tuple would be preferable over a list.\n",
        "\n",
        "-> A tuple would be preferable over a list when you need to store constant data that should not be modified, such as the coordinates of a location or a set of fixed configurations. Since tuples are immutable, they provide data integrity and are safer for use in situations where accidental changes could lead to errors."
      ],
      "metadata": {
        "id": "W9HtVukpVJ1q"
      }
    },
    {
      "cell_type": "markdown",
      "source": [
        "Q.13. How do sets handle duplicate values in Python?\n",
        "\n",
        "-> Sets in Python automatically remove duplicate values. When you try to add a duplicate element to a set, it will not be added, ensuring that each element in a set is unique."
      ],
      "metadata": {
        "id": "kclwmlAvVZuG"
      }
    },
    {
      "cell_type": "markdown",
      "source": [
        "Q.14. How does the \"in\" keyword work diffrently for lists and dictionaries?\n",
        "\n",
        "-> The \"in\" keyword works differently for lists and dictionaries in Python:\n",
        "\n",
        "- For lists: It checks if an element exists in the list by comparing each item. It returns `True` if the element is found.\n",
        "  \n",
        "  Example:\n",
        "  ```python\n",
        "  my_list = [1, 2, 3, 4]\n",
        "  print(3 in my_list)  # Output: True\n",
        "  ```\n",
        "\n",
        "- For dictionaries**: It checks if a key exists in the dictionary. It doesn't check the values, only the keys.\n",
        "\n",
        "  Example:\n",
        "  ```python\n",
        "  my_dict = {'a': 1, 'b': 2}\n",
        "  print('a' in my_dict)  # Output: True\n",
        "  print(1 in my_dict)    # Output: False (checks for keys, not values)\n",
        "  ```\n",
        "\n",
        "### Key Difference:\n",
        "- In lists, \"in\" checks for the presence of an element (value).\n",
        "- In dictionaries, \"in\" checks for the **presence of a key."
      ],
      "metadata": {
        "id": "UNn4UpjQVh2T"
      }
    },
    {
      "cell_type": "markdown",
      "source": [
        "Q.15. Can you modify the elements of a tuple? Explain why or why not.\n",
        "\n",
        "-> No, you cannot modify the elements of a tuple after it is created. This is because tuples are immutable in Python, meaning their content cannot be changed once they are initialized.\n",
        "\n",
        "-> Tuples Are Immutable due to:\n",
        "\n",
        "Memory Efficiency:\n",
        "Tuples are designed to be more memory-efficient than lists. Because they are immutable, Python can optimize the memory allocation for tuples, making them faster for certain operations (like iterating).\n",
        "\n",
        "Data Integrity:\n",
        "Immutability ensures that once data is stored in a tuple, it cannot be altered, which guarantees that the data remains consistent and prevents accidental changes.\n",
        "\n",
        "Hashable:\n",
        "Since tuples cannot be modified, they can be used as keys in dictionaries, while lists cannot (because lists are mutable, and mutable objects can't be hashed).\n",
        "\n",
        "Performance:\n",
        "Since tuples are immutable, Python can optimize their internal implementation for faster access and operations like slicing or iteration."
      ],
      "metadata": {
        "id": "vco72TaSVrgQ"
      }
    },
    {
      "cell_type": "markdown",
      "source": [
        "Q.16. What is a nested dictionary, and give an example of its use case?\n",
        "\n",
        "-> A nested dictionary in Python is a dictionary that contains another dictionary as one or more of its values. Essentially, it's a dictionary within a dictionary, allowing you to store more complex data structures.\n",
        "\n",
        "-> Imagine you are building a system for managing student records, where each student has multiple attributes like their personal information, enrolled courses, and grades. A nested dictionary could be used to organize this data.\n",
        "\n",
        "-> Common Use Cases for Nested Dictionaries:\n",
        "\n",
        "Storing Information About People: Like employee details, student records, or customer information.\n",
        "Organizing Data by Categories: E.g., a list of products, where each product has attributes like name, price, category, etc.\n",
        "JSON-like Data: Nested dictionaries are often used to represent data that comes from external sources such as JSON files, APIs, or databases."
      ],
      "metadata": {
        "id": "4jdzWSxWV0SG"
      }
    },
    {
      "cell_type": "markdown",
      "source": [
        "Q.17. Describe the time complexity of accessing elements in a dictionary.\n",
        "\n",
        "-> The time complexity of accessing elements in a dictionary in Python is generally O(1) (constant time) on average. This means that regardless of the size of the dictionary, the time taken to access a value associated with a key is approximately the same."
      ],
      "metadata": {
        "id": "jQ93xgYTV75d"
      }
    },
    {
      "cell_type": "markdown",
      "source": [
        "Q.18. In what situations are lists preferrred over dictionaries?\n",
        "\n",
        "-> Here are some situations where lists are preferred over dictionaries:\n",
        "\n",
        "-> You need an ordered collection where the sequence matters.\n",
        "\n",
        "-> You need to access elements by their index.\n",
        "\n",
        "-> You need to store duplicate items.\n",
        "\n",
        "-> You want to apply operations across all elements or modify the collection using built-in methods.\n",
        "\n",
        "-> You don't need key-value pairs or a fast lookup by a key.\n"
      ],
      "metadata": {
        "id": "_Nsw6VdBWEJ3"
      }
    },
    {
      "cell_type": "markdown",
      "source": [
        "Q.19. Why are dictionaries considered unordered, and how does that affect data retrieval?\n",
        "\n",
        "-> Dictionaries in Python are considered unordered because they do not guarantee any specific order for their key-value pairs."
      ],
      "metadata": {
        "id": "sdS6p_TXWKJj"
      }
    },
    {
      "cell_type": "markdown",
      "source": [
        "Q.20. Explain the difference between a list and a dictionary in terms of data retieval.\n",
        "\n",
        "-> A list is an ordered collection of elements, where each element is indexed by a position (integer index) starting from 0.\n",
        "\n",
        "-> We retrieve data from a list by its index.\n",
        "\n",
        "-> A dictionary is an unordered collection of key-value pairs. Each value is associated with a unique key, not an index.\n",
        "\n",
        "-> We retrieve data from a dictionary using its key."
      ],
      "metadata": {
        "id": "-1cqY0lLWSFP"
      }
    },
    {
      "cell_type": "markdown",
      "source": [],
      "metadata": {
        "id": "JJBYzQKDCmjr"
      }
    }
  ]
}